{
  "nbformat": 4,
  "nbformat_minor": 0,
  "metadata": {
    "colab": {
      "name": "Task3.ipynb",
      "provenance": []
    },
    "kernelspec": {
      "name": "python3",
      "display_name": "Python 3"
    },
    "language_info": {
      "name": "python"
    },
    "accelerator": "GPU"
  },
  "cells": [
    {
      "cell_type": "markdown",
      "metadata": {
        "id": "EwpvfHubwEq-"
      },
      "source": [
        "# Model Optimization "
      ]
    },
    {
      "cell_type": "code",
      "metadata": {
        "colab": {
          "base_uri": "https://localhost:8080/"
        },
        "id": "qllNvqdDM1tz",
        "outputId": "005d7ba3-69ea-41b8-b37f-b090a61972d7"
      },
      "source": [
        "import numpy as np\n",
        "import pandas as pd\n",
        "import datetime as dt\n",
        "import matplotlib.pyplot as plt\n",
        "import tensorflow as tf\n",
        "import seaborn as sns\n",
        "sns.set(style=\"darkgrid\", context=\"notebook\")\n",
        "\n",
        "from sklearn.preprocessing import MinMaxScaler\n",
        "from sklearn.metrics import mean_squared_error\n",
        "\n",
        "from tensorflow import keras\n",
        "from tensorflow.keras import layers\n",
        "\n",
        "from zipfile import ZipFile\n",
        "\n",
        "import warnings\n",
        "warnings.filterwarnings(\"ignore\")\n",
        "\n",
        "print(tf.version.VERSION)\n",
        "print(keras.__version__)"
      ],
      "execution_count": 1,
      "outputs": [
        {
          "output_type": "stream",
          "name": "stdout",
          "text": [
            "2.7.0\n",
            "2.7.0\n"
          ]
        }
      ]
    },
    {
      "cell_type": "markdown",
      "metadata": {
        "id": "OQ_F2f2twL2Z"
      },
      "source": [
        "Temporary daily basis, and live digital campaigns data sets were utilized for this part of study. Other auxilary data sets were not seems to valid due to their time range.   "
      ]
    },
    {
      "cell_type": "code",
      "metadata": {
        "id": "jZZUVWCRNxwd"
      },
      "source": [
        "time_data = pd.read_csv(\"time_data.csv\",\n",
        "                        index_col=\"date\")\n",
        "live_digit = pd.read_csv(\"live_digital_campaigns.csv\",\n",
        "                         index_col=\"date\")"
      ],
      "execution_count": 4,
      "outputs": []
    },
    {
      "cell_type": "code",
      "metadata": {
        "id": "5GOokxekN6na"
      },
      "source": [
        "time_df = time_data.copy()\n",
        "live_df = live_digit.copy()\n",
        "live_df.drop(live_df.index[-1], inplace=True)\n",
        "time_df = time_df.merge(live_df, how=\"left\", on=\"date\")"
      ],
      "execution_count": 5,
      "outputs": []
    },
    {
      "cell_type": "markdown",
      "metadata": {
        "id": "NYcp4x1Fxcth"
      },
      "source": [
        "- We designed optimization experiments heuristically. It was not seemed to feasible to implement an permutation based feature selection. So, we employed a forward approach to select best features. Features were ordered as their daily numbers included, and their importance heuristically.\n",
        "\n",
        "- Number of time steps were included the experiments as a list of candidate numbers to find their optimal values. "
      ]
    },
    {
      "cell_type": "code",
      "metadata": {
        "id": "6jL29Z0g3NYK"
      },
      "source": [
        "def series_to_supervised(data, n_in=1, dropnan=True):\n",
        "\tn_vars = 1 if type(data) is list else data.shape[1]\n",
        "\tdf = pd.DataFrame(data)\n",
        "\tcols, names = list(), list()\n",
        "\tfor i in range(n_in, 0, -1):\n",
        "\t\tcols.append(df.shift(i))\n",
        "\t\tnames += [(\"var%d(t-%d)\" % (j+1, i)) for j in range(n_vars)]\n",
        "\tagg = pd.concat(cols, axis=1)\n",
        "\tagg.columns = names\n",
        "\tif dropnan:\n",
        "\t\tagg.dropna(inplace=True)\n",
        "\treturn agg"
      ],
      "execution_count": 24,
      "outputs": []
    },
    {
      "cell_type": "code",
      "metadata": {
        "colab": {
          "base_uri": "https://localhost:8080/"
        },
        "id": "WILtFq7LraM3",
        "outputId": "3bcc05a1-1a6a-4be0-9feb-648aecd4c1b3"
      },
      "source": [
        "feat = [\"daily_sum\",\n",
        "        \"Google Ads\",\n",
        "        \"Product D\",\n",
        "        \"Product A\",\n",
        "        \"Organic search\",\n",
        "        \"Facebook\",\n",
        "        \"CRM\",\n",
        "        \"Product B\",\n",
        "        \"Product E\",\n",
        "        \"Direct\",\n",
        "        \"Product C\",\n",
        "        \"Product F\",\n",
        "        \"Referral\",\n",
        "        \"live_campaign\"]\n",
        "\n",
        "track_df = pd.DataFrame(columns=[\"mse\", \"feat\", \"step\"])\n",
        "for t in [35, 30, 25, 20]:\n",
        "    track = list()\n",
        "    for f in feat:\n",
        "        track.append(f)\n",
        "        df = time_df[track]\n",
        "\n",
        "        time_step = t\n",
        "        n_train = 320\n",
        "\n",
        "        sc_X = MinMaxScaler(feature_range=(0,1))\n",
        "        sc_y = MinMaxScaler(feature_range=(0,1))\n",
        "\n",
        "        reframed = series_to_supervised(df, time_step)\n",
        "        reframed = reframed.merge(df[\"daily_sum\"], how=\"left\", on=\"date\")\n",
        "\n",
        "        X_scaled = sc_X.fit_transform(reframed.drop(columns=\"daily_sum\"))\n",
        "        y_scaled = sc_y.fit_transform(reframed[\"daily_sum\"].values.reshape(-1, 1))\n",
        "\n",
        "        X_train, X_test = X_scaled[:n_train, :], X_scaled[n_train:, :]\n",
        "        y_train, y_test = y_scaled[:n_train, :], y_scaled[n_train:, :]\n",
        "\n",
        "        X_train = np.reshape(X_train, (X_train.shape[0], time_step, df.shape[1]))\n",
        "        X_test = np.reshape(X_test, (X_test.shape[0], time_step, df.shape[1]))\n",
        "\n",
        "        input_lead = layers.Input(shape=(time_step, X_train.shape[2]),\n",
        "                                  name=\"input_lead\")\n",
        "        b = layers.Bidirectional(layers.LSTM(units=200,\n",
        "                                             return_sequences=True))(input_lead)\n",
        "        b = layers.Bidirectional(layers.LSTM(units=150))(b)\n",
        "        d = layers.Dense(20, activation=\"tanh\")(b)\n",
        "        d = layers.Dropout(0.2)(d)\n",
        "        output = layers.Dense(1, name=\"output\")(d)\n",
        "        model_2 = keras.Model(input_lead, output)\n",
        "        model_2.compile(loss=\"mean_squared_error\",\n",
        "                        optimizer=keras.optimizers.Adam(learning_rate=0.0001))\n",
        "        \n",
        "        es = keras.callbacks.EarlyStopping(monitor=\"loss\",\n",
        "                                        mode=\"min\",\n",
        "                                        verbose=1,\n",
        "                                        patience=5)\n",
        "        model_2.fit(X_train, y_train,\n",
        "                    epochs=30,\n",
        "                    batch_size=16,\n",
        "                    callbacks=[es],\n",
        "                    verbose=0)\n",
        "\n",
        "        y_pred = model_2.predict(X_test)\n",
        "        mse = mean_squared_error(y_test, y_pred)\n",
        "\n",
        "        newtrack = pd.Series({\"mse\":mse, \"feat\": \",\".join(track), \"step\":t})\n",
        "        track_df = track_df.append(newtrack, ignore_index=True)"
      ],
      "execution_count": 24,
      "outputs": [
        {
          "output_type": "stream",
          "name": "stdout",
          "text": [
            "Epoch 00016: early stopping\n",
            "Epoch 00030: early stopping\n",
            "Epoch 00019: early stopping\n",
            "Epoch 00010: early stopping\n",
            "Epoch 00012: early stopping\n",
            "Epoch 00010: early stopping\n",
            "Epoch 00019: early stopping\n",
            "Epoch 00019: early stopping\n",
            "Epoch 00011: early stopping\n",
            "Epoch 00027: early stopping\n",
            "Epoch 00016: early stopping\n",
            "Epoch 00011: early stopping\n",
            "Epoch 00023: early stopping\n",
            "Epoch 00020: early stopping\n",
            "Epoch 00011: early stopping\n",
            "Epoch 00017: early stopping\n",
            "Epoch 00014: early stopping\n",
            "Epoch 00017: early stopping\n",
            "Epoch 00009: early stopping\n",
            "Epoch 00019: early stopping\n",
            "Epoch 00020: early stopping\n",
            "Epoch 00022: early stopping\n",
            "Epoch 00014: early stopping\n",
            "Epoch 00011: early stopping\n",
            "Epoch 00018: early stopping\n",
            "Epoch 00028: early stopping\n",
            "Epoch 00016: early stopping\n",
            "Epoch 00013: early stopping\n",
            "Epoch 00014: early stopping\n",
            "Epoch 00025: early stopping\n",
            "Epoch 00014: early stopping\n",
            "Epoch 00026: early stopping\n",
            "Epoch 00025: early stopping\n",
            "Epoch 00013: early stopping\n",
            "Epoch 00018: early stopping\n",
            "Epoch 00027: early stopping\n",
            "Epoch 00013: early stopping\n",
            "Epoch 00016: early stopping\n",
            "Epoch 00021: early stopping\n",
            "Epoch 00029: early stopping\n",
            "Epoch 00015: early stopping\n",
            "Epoch 00017: early stopping\n",
            "Epoch 00013: early stopping\n",
            "Epoch 00016: early stopping\n",
            "Epoch 00025: early stopping\n",
            "Epoch 00011: early stopping\n",
            "Epoch 00017: early stopping\n",
            "Epoch 00028: early stopping\n",
            "Epoch 00014: early stopping\n",
            "Epoch 00016: early stopping\n",
            "Epoch 00022: early stopping\n",
            "Epoch 00023: early stopping\n",
            "Epoch 00030: early stopping\n"
          ]
        }
      ]
    },
    {
      "cell_type": "code",
      "metadata": {
        "id": "w5eo3oNPThbi"
      },
      "source": [
        "track_df.to_csv(\"track_file.csv\", index=False)"
      ],
      "execution_count": 26,
      "outputs": []
    },
    {
      "cell_type": "markdown",
      "metadata": {
        "id": "Tq2cw8xZzUJd"
      },
      "source": [
        "# Best Configuration\n",
        "\n",
        "According to experiment results"
      ]
    },
    {
      "cell_type": "code",
      "metadata": {
        "id": "6nis4B1-14-C"
      },
      "source": [
        "track_df = pd.read_csv(\"track_file.csv\")"
      ],
      "execution_count": 6,
      "outputs": []
    },
    {
      "cell_type": "code",
      "metadata": {
        "colab": {
          "base_uri": "https://localhost:8080/",
          "height": 204
        },
        "id": "RgYjYXAO2Ebu",
        "outputId": "825472c6-0927-434b-b98c-7fd79be20857"
      },
      "source": [
        "track_df.sort_values(\"mse\").head(5)"
      ],
      "execution_count": 13,
      "outputs": [
        {
          "output_type": "execute_result",
          "data": {
            "text/html": [
              "<div>\n",
              "<style scoped>\n",
              "    .dataframe tbody tr th:only-of-type {\n",
              "        vertical-align: middle;\n",
              "    }\n",
              "\n",
              "    .dataframe tbody tr th {\n",
              "        vertical-align: top;\n",
              "    }\n",
              "\n",
              "    .dataframe thead th {\n",
              "        text-align: right;\n",
              "    }\n",
              "</style>\n",
              "<table border=\"1\" class=\"dataframe\">\n",
              "  <thead>\n",
              "    <tr style=\"text-align: right;\">\n",
              "      <th></th>\n",
              "      <th>mse</th>\n",
              "      <th>feat</th>\n",
              "      <th>time_step</th>\n",
              "      <th>step</th>\n",
              "    </tr>\n",
              "  </thead>\n",
              "  <tbody>\n",
              "    <tr>\n",
              "      <th>25</th>\n",
              "      <td>0.017892</td>\n",
              "      <td>daily_sum,Google Ads,Product D,Product A,Organ...</td>\n",
              "      <td>NaN</td>\n",
              "      <td>30.0</td>\n",
              "    </tr>\n",
              "    <tr>\n",
              "      <th>21</th>\n",
              "      <td>0.017945</td>\n",
              "      <td>daily_sum,Google Ads,Product D,Product A,Organ...</td>\n",
              "      <td>NaN</td>\n",
              "      <td>30.0</td>\n",
              "    </tr>\n",
              "    <tr>\n",
              "      <th>47</th>\n",
              "      <td>0.017988</td>\n",
              "      <td>daily_sum,Google Ads,Product D,Product A,Organ...</td>\n",
              "      <td>NaN</td>\n",
              "      <td>20.0</td>\n",
              "    </tr>\n",
              "    <tr>\n",
              "      <th>22</th>\n",
              "      <td>0.018128</td>\n",
              "      <td>daily_sum,Google Ads,Product D,Product A,Organ...</td>\n",
              "      <td>NaN</td>\n",
              "      <td>30.0</td>\n",
              "    </tr>\n",
              "    <tr>\n",
              "      <th>27</th>\n",
              "      <td>0.018423</td>\n",
              "      <td>daily_sum,Google Ads,Product D,Product A,Organ...</td>\n",
              "      <td>NaN</td>\n",
              "      <td>30.0</td>\n",
              "    </tr>\n",
              "  </tbody>\n",
              "</table>\n",
              "</div>"
            ],
            "text/plain": [
              "         mse  ...  step\n",
              "25  0.017892  ...  30.0\n",
              "21  0.017945  ...  30.0\n",
              "47  0.017988  ...  20.0\n",
              "22  0.018128  ...  30.0\n",
              "27  0.018423  ...  30.0\n",
              "\n",
              "[5 rows x 4 columns]"
            ]
          },
          "metadata": {},
          "execution_count": 13
        }
      ]
    },
    {
      "cell_type": "code",
      "metadata": {
        "id": "dv-DXM7M2gyY"
      },
      "source": [
        "best_feat = track_df.sort_values(\"mse\").head(1)[\"feat\"].values[0].split(\",\")\n",
        "df = time_df[best_feat]"
      ],
      "execution_count": 20,
      "outputs": []
    },
    {
      "cell_type": "code",
      "metadata": {
        "id": "Dz5Q2hTB3FHS"
      },
      "source": [
        "time_step = 30\n",
        "n_train = 320\n",
        "\n",
        "sc_X = MinMaxScaler(feature_range=(0,1))\n",
        "sc_y = MinMaxScaler(feature_range=(0,1))\n",
        "\n",
        "reframed = series_to_supervised(df, time_step)\n",
        "reframed = reframed.merge(df[\"daily_sum\"], how=\"left\", on=\"date\")\n",
        "\n",
        "X_scaled = sc_X.fit_transform(reframed.drop(columns=\"daily_sum\"))\n",
        "y_scaled = sc_y.fit_transform(reframed[\"daily_sum\"].values.reshape(-1, 1))\n",
        "\n",
        "X_train, X_test = X_scaled[:n_train, :], X_scaled[n_train:, :]\n",
        "y_train, y_test = y_scaled[:n_train, :], y_scaled[n_train:, :]\n",
        "\n",
        "X_train = np.reshape(X_train, (X_train.shape[0], time_step, df.shape[1]))\n",
        "X_test = np.reshape(X_test, (X_test.shape[0], time_step, df.shape[1]))"
      ],
      "execution_count": 28,
      "outputs": []
    },
    {
      "cell_type": "code",
      "metadata": {
        "colab": {
          "base_uri": "https://localhost:8080/"
        },
        "id": "132o9mbO3UhS",
        "outputId": "ef4b116f-59ef-450b-b2de-cabffa7c79d0"
      },
      "source": [
        "input_lead = layers.Input(shape=(time_step, X_train.shape[2]),\n",
        "                    name=\"input_lead\")\n",
        "b = layers.Bidirectional(layers.LSTM(units=200,\n",
        "                                    return_sequences=True))(input_lead)\n",
        "b = layers.Bidirectional(layers.LSTM(units=150))(b)\n",
        "d = layers.Dense(20, activation=\"tanh\")(b)\n",
        "d = layers.Dropout(0.2)(d)\n",
        "output = layers.Dense(1, name=\"output\")(d)\n",
        "model_2 = keras.Model(input_lead, output)\n",
        "model_2.compile(loss=\"mean_squared_error\",\n",
        "                optimizer=keras.optimizers.Adam(learning_rate=0.0001))\n",
        "model_2.summary()"
      ],
      "execution_count": 29,
      "outputs": [
        {
          "output_type": "stream",
          "name": "stdout",
          "text": [
            "Model: \"model_1\"\n",
            "_________________________________________________________________\n",
            " Layer (type)                Output Shape              Param #   \n",
            "=================================================================\n",
            " input_lead (InputLayer)     [(None, 30, 12)]          0         \n",
            "                                                                 \n",
            " bidirectional_2 (Bidirectio  (None, 30, 400)          340800    \n",
            " nal)                                                            \n",
            "                                                                 \n",
            " bidirectional_3 (Bidirectio  (None, 300)              661200    \n",
            " nal)                                                            \n",
            "                                                                 \n",
            " dense_1 (Dense)             (None, 20)                6020      \n",
            "                                                                 \n",
            " dropout_1 (Dropout)         (None, 20)                0         \n",
            "                                                                 \n",
            " output (Dense)              (None, 1)                 21        \n",
            "                                                                 \n",
            "=================================================================\n",
            "Total params: 1,008,041\n",
            "Trainable params: 1,008,041\n",
            "Non-trainable params: 0\n",
            "_________________________________________________________________\n"
          ]
        }
      ]
    },
    {
      "cell_type": "code",
      "metadata": {
        "colab": {
          "base_uri": "https://localhost:8080/"
        },
        "id": "RseadsY93gr7",
        "outputId": "9e4b5ebe-39ba-44f3-8293-d82ea60a21f0"
      },
      "source": [
        "es = keras.callbacks.EarlyStopping(monitor=\"loss\",\n",
        "                                        mode=\"min\",\n",
        "                                        verbose=1,\n",
        "                                        patience=5)\n",
        "model_2.fit(X_train, y_train,\n",
        "            epochs=30,\n",
        "            batch_size=16,\n",
        "            callbacks=[es],\n",
        "            verbose=1)"
      ],
      "execution_count": 30,
      "outputs": [
        {
          "output_type": "stream",
          "name": "stdout",
          "text": [
            "Epoch 1/30\n",
            "20/20 [==============================] - 7s 51ms/step - loss: 0.0586\n",
            "Epoch 2/30\n",
            "20/20 [==============================] - 1s 50ms/step - loss: 0.0312\n",
            "Epoch 3/30\n",
            "20/20 [==============================] - 1s 50ms/step - loss: 0.0284\n",
            "Epoch 4/30\n",
            "20/20 [==============================] - 1s 51ms/step - loss: 0.0258\n",
            "Epoch 5/30\n",
            "20/20 [==============================] - 1s 52ms/step - loss: 0.0264\n",
            "Epoch 6/30\n",
            "20/20 [==============================] - 1s 50ms/step - loss: 0.0278\n",
            "Epoch 7/30\n",
            "20/20 [==============================] - 1s 50ms/step - loss: 0.0271\n",
            "Epoch 8/30\n",
            "20/20 [==============================] - 1s 51ms/step - loss: 0.0244\n",
            "Epoch 9/30\n",
            "20/20 [==============================] - 1s 49ms/step - loss: 0.0265\n",
            "Epoch 10/30\n",
            "20/20 [==============================] - 1s 50ms/step - loss: 0.0247\n",
            "Epoch 11/30\n",
            "20/20 [==============================] - 1s 50ms/step - loss: 0.0253\n",
            "Epoch 12/30\n",
            "20/20 [==============================] - 1s 50ms/step - loss: 0.0246\n",
            "Epoch 13/30\n",
            "20/20 [==============================] - 1s 50ms/step - loss: 0.0225\n",
            "Epoch 14/30\n",
            "20/20 [==============================] - 1s 51ms/step - loss: 0.0244\n",
            "Epoch 15/30\n",
            "20/20 [==============================] - 1s 50ms/step - loss: 0.0258\n",
            "Epoch 16/30\n",
            "20/20 [==============================] - 1s 51ms/step - loss: 0.0225\n",
            "Epoch 17/30\n",
            "20/20 [==============================] - 1s 51ms/step - loss: 0.0241\n",
            "Epoch 18/30\n",
            "20/20 [==============================] - 1s 50ms/step - loss: 0.0246\n",
            "Epoch 00018: early stopping\n"
          ]
        },
        {
          "output_type": "execute_result",
          "data": {
            "text/plain": [
              "<keras.callbacks.History at 0x7f4724bbae10>"
            ]
          },
          "metadata": {},
          "execution_count": 30
        }
      ]
    },
    {
      "cell_type": "code",
      "metadata": {
        "colab": {
          "base_uri": "https://localhost:8080/"
        },
        "id": "9CAIqYXA4Cgv",
        "outputId": "9befbc67-3cf9-4985-f963-0cfa95b1ab4c"
      },
      "source": [
        "y_pred = model_2.predict(X_test)\n",
        "mean_squared_error(y_test, y_pred)"
      ],
      "execution_count": 35,
      "outputs": [
        {
          "output_type": "execute_result",
          "data": {
            "text/plain": [
              "0.01852156831338802"
            ]
          },
          "metadata": {},
          "execution_count": 35
        }
      ]
    },
    {
      "cell_type": "code",
      "metadata": {
        "colab": {
          "base_uri": "https://localhost:8080/",
          "height": 268
        },
        "id": "xhNH_XUCQwvK",
        "outputId": "6fa86576-f74f-48f3-84f6-59f961657fa0"
      },
      "source": [
        "y_pred_ = sc_y.inverse_transform(y_pred)\n",
        "y_test_ = sc_y.inverse_transform(y_test)\n",
        "\n",
        "plt.plot(y_pred_)\n",
        "plt.plot(y_test_)\n",
        "plt.show()"
      ],
      "execution_count": 36,
      "outputs": [
        {
          "output_type": "display_data",
          "data": {
            "image/png": "[encoded data removed]",
            "text/plain": [
              "<Figure size 432x288 with 1 Axes>"
            ]
          },
          "metadata": {
            "needs_background": "light"
          }
        }
      ]
    }
  ]
}